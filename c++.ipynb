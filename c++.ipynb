{
  "nbformat": 4,
  "nbformat_minor": 0,
  "metadata": {
    "colab": {
      "provenance": []
    },
    "kernelspec": {
      "name": "python3",
      "display_name": "Python 3"
    },
    "language_info": {
      "name": "python"
    }
  },
  "cells": [
    {
      "cell_type": "markdown",
      "source": [
        "#Testing"
      ],
      "metadata": {
        "id": "wOI7HaTUv7jM"
      }
    },
    {
      "cell_type": "code",
      "execution_count": null,
      "metadata": {
        "colab": {
          "base_uri": "https://localhost:8080/"
        },
        "id": "CKfkxvqy3ICw",
        "outputId": "9678ce75-e988-4167-dfc3-596636cae4c7"
      },
      "outputs": [
        {
          "output_type": "stream",
          "name": "stdout",
          "text": [
            "Overwriting helloworld.cpp\n"
          ]
        }
      ],
      "source": [
        "%%writefile helloworld.cpp\n",
        "#include<iostream>\n",
        "using namespace std;\n",
        "int main(){\n",
        "  cout<<\"Hellow\";\n",
        "  return 0;\n",
        "}"
      ]
    },
    {
      "cell_type": "code",
      "source": [
        "! g++ helloworld.cpp -o helloProgram\n",
        "! ./helloProgram"
      ],
      "metadata": {
        "colab": {
          "base_uri": "https://localhost:8080/"
        },
        "id": "UXtRXE2S3jDI",
        "outputId": "cb1fb036-d390-4921-bd22-28cd6b43f18c"
      },
      "execution_count": null,
      "outputs": [
        {
          "output_type": "stream",
          "name": "stdout",
          "text": [
            "Hellow"
          ]
        }
      ]
    },
    {
      "cell_type": "markdown",
      "source": [
        "#Singly Linked List in C++\n"
      ],
      "metadata": {
        "id": "jHgKyPGgvxGK"
      }
    },
    {
      "cell_type": "code",
      "source": [
        "%%writefile linkeList.cpp\n",
        "#include<iostream>\n",
        "using namespace std;\n",
        "struct Node{\n",
        "  int data;\n",
        "  Node* next;\n",
        "  Node(int data){\n",
        "    this->data=data;\n",
        "    this->next=NULL;\n",
        "\n",
        "\n",
        "  }\n",
        "\n",
        " //destructor\n",
        "    ~Node() {\n",
        "        int value = this -> data;\n",
        "        //memory free\n",
        "        if(this->next != NULL) {\n",
        "            delete next;\n",
        "            this->next = NULL;\n",
        "        }\n",
        "        cout << \" memory is free for node with data \" << value << endl;\n",
        "    }\n",
        "};\n",
        "\n",
        "void print(Node* &head)\n",
        "{\n",
        "  Node* temp=head;\n",
        "  while(temp!=NULL){\n",
        "    cout<<temp->data<<\"->\";\n",
        "    temp=temp->next;\n",
        "  }\n",
        "  cout<<endl;\n",
        "\n",
        "}\n",
        "\n",
        "void insAtHead(Node* &head,int data){\n",
        "\n",
        "  Node* newNode=new Node(data);\n",
        "  newNode->next=head;\n",
        "  head=newNode;\n",
        "}\n",
        "void insAtBack(Node* &head,int data){\n",
        "\n",
        "  Node* newNode=new Node(data);\n",
        "    if(head==nullptr)\n",
        "    {\n",
        "      head=newNode;\n",
        "    }\n",
        "    else{\n",
        "      head->next=newNode;\n",
        "      head=newNode;\n",
        "    }\n",
        "}\n",
        "void insAtTail(Node* &tail,int data){\n",
        "  Node* newNode=new Node(data);\n",
        "  tail->next=newNode;\n",
        "  tail=newNode;\n",
        "}\n",
        "\n",
        "void insAtPost(Node* head,int elem,int pos)\n",
        "{\n",
        "  Node* temp=head;\n",
        "    Node* inseart=new Node(elem);\n",
        "  int count=1;\n",
        "\n",
        "  if(pos<=1){\n",
        "    inseart->next=head;\n",
        "    head=inseart;\n",
        "    return;\n",
        "  }\n",
        "  while(temp!=nullptr&&count<pos-1){\n",
        "    temp=temp->next;\n",
        "    count++;\n",
        "  }\n",
        "  if(temp==nullptr){\n",
        "    std::cerr << \"Position out of bounds!\" << std::endl;\n",
        "        delete inseart; // Clean up the allocated memory\n",
        "        return;\n",
        "  }\n",
        "\n",
        "  inseart->next=temp->next;\n",
        "  temp->next=inseart;\n",
        "\n",
        "\n",
        "}\n",
        "\n",
        "void deleteNode(Node* &head,int position) {\n",
        "\n",
        "    //deleting first or start node\n",
        "    if(position == 1) {\n",
        "        Node* temp = head;\n",
        "        head = head -> next;\n",
        "        //memory free start ndoe\n",
        "        temp -> next = NULL;\n",
        "        delete temp;\n",
        "    }\n",
        "    else\n",
        "    {\n",
        "        //deleting any middle node or last node\n",
        "        Node* curr = head;\n",
        "        Node* prev = NULL;\n",
        "\n",
        "        int cnt = 1;\n",
        "        while(cnt < position) {\n",
        "            prev = curr;\n",
        "            curr = curr -> next;\n",
        "            cnt++;\n",
        "        }\n",
        "\n",
        "        prev -> next = curr -> next;\n",
        "        curr -> next  = NULL;\n",
        "        delete curr;\n",
        "\n",
        "    }\n",
        "}\n",
        "int main(){\n",
        " Node* node=new Node(23);\n",
        "  insAtHead(node,232);\n",
        "  insAtHead(node,12);\n",
        "  print(node);\n",
        "  insAtPost(node,69,3);\n",
        "  print(node);\n",
        "\n",
        "  deleteNode(node,3);\n",
        "  print(node);\n",
        "\n",
        "  return 0;\n",
        "}"
      ],
      "metadata": {
        "id": "vK4FFMYp4a0w",
        "colab": {
          "base_uri": "https://localhost:8080/"
        },
        "outputId": "9789128a-9a59-4ebd-a9e1-d186e8eff5b4"
      },
      "execution_count": null,
      "outputs": [
        {
          "output_type": "stream",
          "name": "stdout",
          "text": [
            "Writing linkeList.cpp\n"
          ]
        }
      ]
    },
    {
      "cell_type": "code",
      "source": [
        "! g++ linkeList.cpp -o linkeList\n",
        "! ./linkeList"
      ],
      "metadata": {
        "colab": {
          "base_uri": "https://localhost:8080/"
        },
        "id": "IxO3IefI4ume",
        "outputId": "f39c2e52-277f-43f1-dc8b-9c33c1756a45"
      },
      "execution_count": null,
      "outputs": [
        {
          "output_type": "stream",
          "name": "stdout",
          "text": [
            "12->232->23->\n",
            "12->232->69->23->\n",
            " memory is free for node with data 69\n",
            "12->232->23->\n"
          ]
        }
      ]
    },
    {
      "cell_type": "markdown",
      "source": [
        "#Struct in C++"
      ],
      "metadata": {
        "id": "ansedj4qv2VM"
      }
    },
    {
      "cell_type": "code",
      "source": [
        "%%writefile structPrac.cpp\n",
        "#include<iostream>\n",
        "using namespace std;\n",
        "struct student{\n",
        "string name;\n",
        "double cgpa;\n",
        "bool enroll;\n",
        "\n",
        "};\n",
        "\n",
        "int main(){\n",
        "  student stud1;\n",
        "  stud1.name=\"demo\";\n",
        "  stud1.enroll=false;\n",
        "  cout<<stud1->name;\n",
        "\n",
        "}\n"
      ],
      "metadata": {
        "colab": {
          "base_uri": "https://localhost:8080/"
        },
        "id": "0uzGc_P9BlO8",
        "outputId": "746139ce-8acb-4e2e-b991-869077165ce4"
      },
      "execution_count": null,
      "outputs": [
        {
          "output_type": "stream",
          "name": "stdout",
          "text": [
            "Overwriting structPrac.cpp\n"
          ]
        }
      ]
    },
    {
      "cell_type": "code",
      "source": [
        "! g++ structPrac.cpp -o structPrac\n",
        "! ./structPrac"
      ],
      "metadata": {
        "colab": {
          "base_uri": "https://localhost:8080/"
        },
        "id": "os59GxKtCVQc",
        "outputId": "98850250-a572-4bfb-da17-f43d69051e26"
      },
      "execution_count": null,
      "outputs": [
        {
          "output_type": "stream",
          "name": "stdout",
          "text": [
            "\u001b[01m\u001b[KstructPrac.cpp:\u001b[m\u001b[K In function ‘\u001b[01m\u001b[Kint main()\u001b[m\u001b[K’:\n",
            "\u001b[01m\u001b[KstructPrac.cpp:14:14:\u001b[m\u001b[K \u001b[01;31m\u001b[Kerror: \u001b[m\u001b[Kbase operand of ‘\u001b[01m\u001b[K->\u001b[m\u001b[K’ has non-pointer type ‘\u001b[01m\u001b[Kstudent\u001b[m\u001b[K’\n",
            "   14 |   cout<<stud1\u001b[01;31m\u001b[K->\u001b[m\u001b[Kname;\n",
            "      |              \u001b[01;31m\u001b[K^~\u001b[m\u001b[K\n",
            "0demo"
          ]
        }
      ]
    },
    {
      "cell_type": "markdown",
      "source": [
        "# Pointer's  in c++\n"
      ],
      "metadata": {
        "id": "TkHxL6yjALfi"
      }
    },
    {
      "cell_type": "code",
      "source": [
        "%%writefile point.cpp\n",
        "#include<iostream>\n",
        "using namespace std;\n",
        "int main(){\n",
        "  int num=5;\n",
        "  cout<<num<<endl;\n",
        "  // addresss of operator by  - &\n",
        "  cout<<\"address of num is :\"<<&num<<endl;\n",
        "\n",
        "  int *ptr=&num;\n",
        "  cout<<\"pointer\"<<endl;\n",
        "  cout<<*ptr<<endl;\n",
        "  cout<<ptr<<endl;\n",
        "  cout<<\"size of \"<<endl;\n",
        "  cout<<\"size of int is \"<<sizeof(num)<<endl;\n",
        "  cout<<\"size of pointer is \"<<sizeof(ptr)<<endl;\n",
        "\n",
        "// // bad practice\n",
        "//   int *p;\n",
        "//   cout<<*p<<endl;\n",
        "\n",
        " int a=4;\n",
        " int *ptr2=&a;\n",
        " cout<<\"without increaesing poitner \"<<a<<endl;\n",
        " (*ptr2)++;\n",
        " cout<<\"with increasing pointer \"<<a<<endl;\n",
        "\n",
        "\n",
        " // copying  a pointer\n",
        " int *copy=ptr;\n",
        "  cout<<\"copying a pointer \"<<endl;\n",
        "  cout<<ptr<<\"-\"<<copy<<endl;\n",
        "  cout<<*ptr<<\"-\"<<*copy<<endl;\n",
        "\n",
        "  // increment t\n",
        "  int i=3;\n",
        "  int *t=&i;\n",
        "  cout<<\"before t \"<<t<<endl;\n",
        "    cout<<\"value on  t \"<<*t<<endl;\n",
        "  t+=1;\n",
        "  cout<<\"after t \"<<t<<endl;\n",
        "  cout<<\"value on increment \"<<*t<<endl;\n",
        "\n",
        "  // better approach for seeing t=t+1\n",
        "\n",
        "\n",
        "   int arr[] = {3, 4, 5}; // An array of integers\n",
        "    int *testing = arr; // Pointer to the first element of the array\n",
        "\n",
        "    cout << \"before testing: \" << testing << endl; // Prints address of arr[0]\n",
        "    cout << \"value on testing: \" << *testing << endl; // Prints value of arr[0], which is 3\n",
        "\n",
        "    testing+= 1; // Move to the next integer in the array\n",
        "\n",
        "    cout << \"after testing: \" << testing << endl; // Prints address of arr[1]\n",
        "    cout << \"value on increment: \" << *testing << endl; // Prints value of arr[1], which is 4\n",
        "\n",
        "\n",
        "  return 0;\n",
        "\n",
        "}"
      ],
      "metadata": {
        "colab": {
          "base_uri": "https://localhost:8080/"
        },
        "id": "-xLgoDlfATUy",
        "outputId": "78cb25b5-4ff0-463a-e3ce-19ceb66f8042"
      },
      "execution_count": null,
      "outputs": [
        {
          "output_type": "stream",
          "name": "stdout",
          "text": [
            "Overwriting point.cpp\n"
          ]
        }
      ]
    },
    {
      "cell_type": "code",
      "source": [
        "! g++ point.cpp -o point\n",
        "! ./point"
      ],
      "metadata": {
        "colab": {
          "base_uri": "https://localhost:8080/"
        },
        "id": "AcKeyih4AX5V",
        "outputId": "e2853cd4-9263-4edb-cb7c-6ae0ffb76245"
      },
      "execution_count": null,
      "outputs": [
        {
          "output_type": "stream",
          "name": "stdout",
          "text": [
            "5\n",
            "address of num is :0x7ffc8dcd6064\n",
            "pointer\n",
            "5\n",
            "0x7ffc8dcd6064\n",
            "size of \n",
            "size of int is 4\n",
            "size of pointer is 8\n",
            "without increaesing poitner 4\n",
            "with increasing pointer 5\n",
            "copying a pointer \n",
            "0x7ffc8dcd6064-0x7ffc8dcd6064\n",
            "5-5\n",
            "before t 0x7ffc8dcd606c\n",
            "value on  t 3\n",
            "after t 0x7ffc8dcd6070\n",
            "value on increment -1915920284\n",
            "before testing: 0x7ffc8dcd609c\n",
            "value on testing: 3\n",
            "after testing: 0x7ffc8dcd60a0\n",
            "value on increment: 4\n"
          ]
        }
      ]
    },
    {
      "cell_type": "markdown",
      "source": [
        "# Doubly Linked List   c++"
      ],
      "metadata": {
        "id": "tgCHDBq_ZMMt"
      }
    },
    {
      "cell_type": "code",
      "source": [
        "%%writefile doublyLinkList.cpp\n",
        "#include<iostream>\n",
        "using namespace std;\n",
        "\n",
        "class Node{\n",
        "  public :\n",
        "   int data;\n",
        "   Node*prev;\n",
        "   Node* next;\n",
        "   Node(int data)\n",
        "   {\n",
        "    this ->data=data;\n",
        "    this->prev=NULL;\n",
        "    this->next=NULL;\n",
        "   }\n",
        "};\n",
        "// for printing and transvering\n",
        "void print(Node* head) {\n",
        "    Node* temp = head;\n",
        "    while (temp != nullptr) {\n",
        "        cout << temp->data << \"<->\";\n",
        "        temp = temp->next;\n",
        "    }\n",
        "    cout << \"NULL\" << endl; // Indicating the end of the list\n",
        "}\n",
        "// for lengthh\n",
        "int  length (Node* head)\n",
        "{  int length=0;\n",
        "  Node*temp=head;\n",
        "  while(temp!=NULL){\n",
        "   length++;\n",
        "    temp=temp->next;\n",
        "  }\n",
        "  return length;\n",
        "\n",
        "}\n",
        "void insAtHead(Node* &tail, Node* &head, int d) {\n",
        "\n",
        "    //empty list\n",
        "    if(head == NULL) {\n",
        "        Node* temp = new Node(d);\n",
        "        head = temp;\n",
        "        tail = temp;\n",
        "    }\n",
        "    else{\n",
        "        Node* temp = new Node(d);\n",
        "        temp -> next = head;\n",
        "        head -> prev = temp;\n",
        "        head = temp;\n",
        "    }\n",
        "\n",
        "}\n",
        "\n",
        "\n",
        "void insAtTail(Node*& head, Node*& tail, int data) {\n",
        "    Node* temp = new Node(data);\n",
        "    if (tail == nullptr) {\n",
        "        head = tail = temp; // When list is empty\n",
        "    } else {\n",
        "        tail->next = temp;\n",
        "        temp->prev = tail;\n",
        "        tail = temp; // Update tail\n",
        "    }\n",
        "}\n",
        "void insAtPos(Node* &head,Node* &tail,int data,int position){\n",
        "if(position<=1){\n",
        "insAtHead(head,tail,data);\n",
        "return;\n",
        "}\n",
        "\n",
        " Node* temp=head;\n",
        " Node* nodeToInsert=new Node(data);\n",
        "\n",
        "int count=1;\n",
        "    while(count < position-1) {\n",
        "        temp = temp->next;\n",
        "count++;    }\n",
        "\n",
        "    if(temp -> next == NULL) {\n",
        "        insAtTail(tail,head,data);\n",
        "        return ;\n",
        "    }\n",
        "  nodeToInsert ->next = temp -> next;\n",
        "    temp -> next -> prev = nodeToInsert;\n",
        "    temp -> next = nodeToInsert;\n",
        "    nodeToInsert -> prev = temp;\n",
        "\n",
        "}\n",
        "\n",
        "void del(Node* &head,int pos)\n",
        "{\n",
        "  if(pos<=1)\n",
        "  {\n",
        "    Node* temp=head;\n",
        "    temp->next->prev=nullptr;\n",
        "    head=temp->next;\n",
        "    temp->next=nullptr;\n",
        "    delete temp;\n",
        "  }\n",
        "  // for middle and end\n",
        "\n",
        "  int count=1;\n",
        "  Node* prevs=nullptr;\n",
        "  Node* curr=head;\n",
        "  while(curr!=nullptr&&count<pos)\n",
        "  {\n",
        "    prevs=curr;\n",
        "    curr=curr->next;\n",
        "    count++;\n",
        "  }\n",
        "  prevs->next=curr->next;\n",
        "  curr->next->prev=prevs;\n",
        "    curr->next=nullptr;\n",
        "\n",
        "  delete curr;\n",
        "\n",
        "  curr->next=nullptr;\n",
        "\n",
        "}\n",
        "int main(){\n",
        "  Node* node1=new Node(10);\n",
        "  Node* head=node1;\n",
        "  Node* tail=node1;\n",
        "  cout<<\"printing linked list :\"<<endl;\n",
        "  cout<<\"  \"<<endl;\n",
        "  // insearting at head\n",
        "  print(head);\n",
        "  insAtHead(tail,head,12);\n",
        "  insAtHead(tail,head,13);\n",
        "  cout<<\" \"<<endl;\n",
        "  cout<<\"printing linked list after insert at head :\"<<endl;\n",
        "  cout<<\"  \"<<endl;\n",
        "  print(head);\n",
        "  cout<<\" \"<<endl;\n",
        "  cout<<\"length of linked list  :\"<<length(head)<<endl;\n",
        "  cout<<\"  \"<<endl;\n",
        "// tail part\n",
        "  cout<<\"inseart at tail\"<<endl;\n",
        " insAtTail(head, tail, 45);\n",
        "    insAtTail(head, tail, 46);\n",
        "    insAtTail(head, tail, 47);\n",
        "    insAtTail(head, tail, 48);\n",
        "  cout<<\"  \"<<endl;\n",
        "  cout<<\"printing linked list  after insert at tail :\"<<endl;\n",
        "  cout<<\"  \"<<endl;\n",
        "  print(head);\n",
        "  cout<<\"length of linked list :\"<<length(head)<<endl;\n",
        "  cout<<\"  \"<<endl;\n",
        "// insearting at position\n",
        "   cout<<\"printing linked list  before insearting \"<<endl;\n",
        "  cout<<\"  \"<<endl;\n",
        "  print(head);\n",
        "  cout<<\"inserting at position 5\"<<endl;\n",
        "    cout<<\"  \"<<endl;\n",
        "  insAtPos(head,tail,982,6);\n",
        "  cout<<\"printing linked list after insearting at pos 5:\"<<endl;\n",
        "  print(head);\n",
        "  cout<<\" \"<<endl;\n",
        "   cout<<\"length of linked list  :\"<<length(head)<<endl;\n",
        "    // deletion in liked list\n",
        "    cout<<\"performing deletion\"<<endl;\n",
        "    cout<<\"printing linked list before deletion :\"<<endl;\n",
        "   cout<<\"  \"<<endl;\n",
        "   print(head);\n",
        "      cout<<\" \"<<endl;\n",
        "  cout<<\"length of linked list  :\"<<length(head)<<endl;\n",
        "  cout<<\"  \"<<endl;\n",
        "   del(head,4);\n",
        "   cout<<\"printing linked list after deletion :\"<<endl;\n",
        "   cout<<\"  \"<<endl;\n",
        "  print(head);\n",
        "  cout<<\"deletion done \"<<endl;\n",
        "   cout<<\" \"<<endl;\n",
        "  cout<<\"length of linked list  :\"<<length(head)<<endl;\n",
        "  cout<<\"  \"<<endl;\n",
        " cout<<\"printing linked list before deletion :\"<<endl;\n",
        "   cout<<\"  \"<<endl;\n",
        "    cout<<\" \"<<endl;\n",
        "  cout<<\"length of linked list  :\"<<length(head)<<endl;\n",
        "  cout<<\"  \"<<endl;\n",
        "   print(head);\n",
        "   del(head,6);\n",
        "   cout<<\"printing linked list after deletion :\"<<endl;\n",
        "   cout<<\"  \"<<endl;\n",
        "  print(head);\n",
        "   cout<<\" \"<<endl;\n",
        "  cout<<\"length of linked list  :\"<<length(head)<<endl;\n",
        "  cout<<\"  \"<<endl;\n",
        "\n",
        "\n",
        "  return 0;\n",
        "}"
      ],
      "metadata": {
        "colab": {
          "base_uri": "https://localhost:8080/"
        },
        "id": "-CiHhDfKJYxZ",
        "outputId": "f60f1225-2330-4ab8-f25b-2cab70776686"
      },
      "execution_count": null,
      "outputs": [
        {
          "output_type": "stream",
          "name": "stdout",
          "text": [
            "Overwriting doublyLinkList.cpp\n"
          ]
        }
      ]
    },
    {
      "cell_type": "code",
      "source": [
        "! g++  doublyLinkList.cpp -o doublyLinkList\n",
        "! ./doublyLinkList"
      ],
      "metadata": {
        "colab": {
          "base_uri": "https://localhost:8080/"
        },
        "id": "dRdSr9VDZYnL",
        "outputId": "7ed88381-b56a-4be3-beeb-b9daab48e6e8"
      },
      "execution_count": null,
      "outputs": [
        {
          "output_type": "stream",
          "name": "stdout",
          "text": [
            "printing linked list :\n",
            "  \n",
            "10<->NULL\n",
            " \n",
            "printing linked list after insert at head :\n",
            "  \n",
            "13<->12<->10<->NULL\n",
            " \n",
            "length of linked list  :3\n",
            "  \n",
            "inseart at tail\n",
            "  \n",
            "printing linked list  after insert at tail :\n",
            "  \n",
            "13<->12<->10<->45<->46<->47<->48<->NULL\n",
            "length of linked list :7\n",
            "  \n",
            "printing linked list  before insearting \n",
            "  \n",
            "13<->12<->10<->45<->46<->47<->48<->NULL\n",
            "inserting at position 5\n",
            "  \n",
            "printing linked list after insearting at pos 5:\n",
            "13<->12<->10<->45<->46<->982<->47<->48<->NULL\n",
            " \n",
            "length of linked list  :8\n",
            "performing deletion\n",
            "printing linked list before deletion :\n",
            "  \n",
            "13<->12<->10<->45<->46<->982<->47<->48<->NULL\n",
            " \n",
            "length of linked list  :8\n",
            "  \n",
            "printing linked list after deletion :\n",
            "  \n",
            "13<->12<->10<->46<->982<->47<->48<->NULL\n",
            "deletion done \n",
            " \n",
            "length of linked list  :7\n",
            "  \n",
            "printing linked list before deletion :\n",
            "  \n",
            " \n",
            "length of linked list  :7\n",
            "  \n",
            "13<->12<->10<->46<->982<->47<->48<->NULL\n",
            "printing linked list after deletion :\n",
            "  \n",
            "13<->12<->10<->46<->982<->48<->NULL\n",
            " \n",
            "length of linked list  :6\n",
            "  \n"
          ]
        }
      ]
    },
    {
      "cell_type": "markdown",
      "source": [
        "#Circular Linked List in C++"
      ],
      "metadata": {
        "id": "r1vvu6L0vVmh"
      }
    },
    {
      "cell_type": "code",
      "source": [
        "%%writefile circularLinked.cpp\n",
        "#include<iostream>\n",
        "using namespace std;\n",
        "int main(){\n",
        "  cout<<\"df\";\n",
        "  return 0;\n",
        "}"
      ],
      "metadata": {
        "colab": {
          "base_uri": "https://localhost:8080/"
        },
        "id": "vM16aJC83p3k",
        "outputId": "052ff2d8-6065-4dbd-9b9e-73c3988cea76"
      },
      "execution_count": null,
      "outputs": [
        {
          "output_type": "stream",
          "name": "stdout",
          "text": [
            "Writing circularLinked.cpp\n"
          ]
        }
      ]
    },
    {
      "cell_type": "code",
      "source": [
        "! g++ circularLinked.cpp -o circularLinked.cpp\n",
        "! ./circularLinked.cpp"
      ],
      "metadata": {
        "id": "EAUVUXwmvkMP"
      },
      "execution_count": null,
      "outputs": []
    }
  ]
}