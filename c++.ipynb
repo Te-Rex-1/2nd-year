{
  "nbformat": 4,
  "nbformat_minor": 0,
  "metadata": {
    "colab": {
      "provenance": []
    },
    "kernelspec": {
      "name": "python3",
      "display_name": "Python 3"
    },
    "language_info": {
      "name": "python"
    }
  },
  "cells": [
    {
      "cell_type": "markdown",
      "source": [
        "#Testing"
      ],
      "metadata": {
        "id": "wOI7HaTUv7jM"
      }
    },
    {
      "cell_type": "code",
      "execution_count": null,
      "metadata": {
        "colab": {
          "base_uri": "https://localhost:8080/"
        },
        "id": "CKfkxvqy3ICw",
        "outputId": "9678ce75-e988-4167-dfc3-596636cae4c7"
      },
      "outputs": [
        {
          "output_type": "stream",
          "name": "stdout",
          "text": [
            "Overwriting helloworld.cpp\n"
          ]
        }
      ],
      "source": [
        "%%writefile helloworld.cpp\n",
        "#include<iostream>\n",
        "using namespace std;\n",
        "int main(){\n",
        "  cout<<\"Hellow\";\n",
        "  return 0;\n",
        "}"
      ]
    },
    {
      "cell_type": "code",
      "source": [
        "! g++ helloworld.cpp -o helloProgram\n",
        "! ./helloProgram"
      ],
      "metadata": {
        "colab": {
          "base_uri": "https://localhost:8080/"
        },
        "id": "UXtRXE2S3jDI",
        "outputId": "cb1fb036-d390-4921-bd22-28cd6b43f18c"
      },
      "execution_count": null,
      "outputs": [
        {
          "output_type": "stream",
          "name": "stdout",
          "text": [
            "Hellow"
          ]
        }
      ]
    },
    {
      "cell_type": "markdown",
      "source": [
        "#Singly Linked List in C++\n"
      ],
      "metadata": {
        "id": "jHgKyPGgvxGK"
      }
    },
    {
      "cell_type": "code",
      "source": [
        "%%writefile linkeList.cpp\n",
        "#include<iostream>\n",
        "using namespace std;\n",
        "struct Node{\n",
        "  int data;\n",
        "  Node* next;\n",
        "  Node(int data){\n",
        "    this->data=data;\n",
        "    this->next=NULL;\n",
        "\n",
        "\n",
        "  }\n",
        "\n",
        " //destructor\n",
        "    ~Node() {\n",
        "        int value = this -> data;\n",
        "        //memory free\n",
        "        if(this->next != NULL) {\n",
        "            delete next;\n",
        "            this->next = NULL;\n",
        "        }\n",
        "        cout << \" memory is free for node with data \" << value << endl;\n",
        "    }\n",
        "};\n",
        "\n",
        "void print(Node* &head)\n",
        "{\n",
        "  Node* temp=head;\n",
        "  while(temp!=NULL){\n",
        "    cout<<temp->data<<\"->\";\n",
        "    temp=temp->next;\n",
        "  }\n",
        "  cout<<endl;\n",
        "\n",
        "}\n",
        "\n",
        "void insAtHead(Node* &head,int data){\n",
        "\n",
        "  Node* newNode=new Node(data);\n",
        "  newNode->next=head;\n",
        "  head=newNode;\n",
        "}\n",
        "void insAtBack(Node* &head,int data){\n",
        "\n",
        "  Node* newNode=new Node(data);\n",
        "    if(head==nullptr)\n",
        "    {\n",
        "      head=newNode;\n",
        "    }\n",
        "    else{\n",
        "      head->next=newNode;\n",
        "      head=newNode;\n",
        "    }\n",
        "}\n",
        "void insAtTail(Node* &tail,int data){\n",
        "  Node* newNode=new Node(data);\n",
        "  tail->next=newNode;\n",
        "  tail=newNode;\n",
        "}\n",
        "\n",
        "void insAtPost(Node* head,int elem,int pos)\n",
        "{\n",
        "  Node* temp=head;\n",
        "    Node* inseart=new Node(elem);\n",
        "  int count=1;\n",
        "\n",
        "  if(pos<=1){\n",
        "    inseart->next=head;\n",
        "    head=inseart;\n",
        "    return;\n",
        "  }\n",
        "  while(temp!=nullptr&&count<pos-1){\n",
        "    temp=temp->next;\n",
        "    count++;\n",
        "  }\n",
        "  if(temp==nullptr){\n",
        "    std::cerr << \"Position out of bounds!\" << std::endl;\n",
        "        delete inseart; // Clean up the allocated memory\n",
        "        return;\n",
        "  }\n",
        "\n",
        "  inseart->next=temp->next;\n",
        "  temp->next=inseart;\n",
        "\n",
        "\n",
        "}\n",
        "\n",
        "void deleteNode(Node* &head,int position) {\n",
        "\n",
        "    //deleting first or start node\n",
        "    if(position == 1) {\n",
        "        Node* temp = head;\n",
        "        head = head -> next;\n",
        "        //memory free start ndoe\n",
        "        temp -> next = NULL;\n",
        "        delete temp;\n",
        "    }\n",
        "    else\n",
        "    {\n",
        "        //deleting any middle node or last node\n",
        "        Node* curr = head;\n",
        "        Node* prev = NULL;\n",
        "\n",
        "        int cnt = 1;\n",
        "        while(cnt < position) {\n",
        "            prev = curr;\n",
        "            curr = curr -> next;\n",
        "            cnt++;\n",
        "        }\n",
        "\n",
        "        prev -> next = curr -> next;\n",
        "        curr -> next  = NULL;\n",
        "        delete curr;\n",
        "\n",
        "    }\n",
        "}\n",
        "int main(){\n",
        " Node* node=new Node(23);\n",
        "  insAtHead(node,232);\n",
        "  insAtHead(node,12);\n",
        "  print(node);\n",
        "  insAtPost(node,69,3);\n",
        "  print(node);\n",
        "\n",
        "  deleteNode(node,3);\n",
        "  print(node);\n",
        "\n",
        "  return 0;\n",
        "}"
      ],
      "metadata": {
        "id": "vK4FFMYp4a0w",
        "colab": {
          "base_uri": "https://localhost:8080/"
        },
        "outputId": "9789128a-9a59-4ebd-a9e1-d186e8eff5b4"
      },
      "execution_count": null,
      "outputs": [
        {
          "output_type": "stream",
          "name": "stdout",
          "text": [
            "Writing linkeList.cpp\n"
          ]
        }
      ]
    },
    {
      "cell_type": "code",
      "source": [
        "! g++ linkeList.cpp -o linkeList\n",
        "! ./linkeList"
      ],
      "metadata": {
        "colab": {
          "base_uri": "https://localhost:8080/"
        },
        "id": "IxO3IefI4ume",
        "outputId": "f39c2e52-277f-43f1-dc8b-9c33c1756a45"
      },
      "execution_count": null,
      "outputs": [
        {
          "output_type": "stream",
          "name": "stdout",
          "text": [
            "12->232->23->\n",
            "12->232->69->23->\n",
            " memory is free for node with data 69\n",
            "12->232->23->\n"
          ]
        }
      ]
    }
  ]
}